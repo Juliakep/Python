{
  "nbformat": 4,
  "nbformat_minor": 0,
  "metadata": {
    "colab": {
      "provenance": [],
      "authorship_tag": "ABX9TyPpJza0pxUmp0S3MStPaFtX"
    },
    "kernelspec": {
      "name": "python3",
      "display_name": "Python 3"
    },
    "language_info": {
      "name": "python"
    }
  },
  "cells": [
    {
      "cell_type": "code",
      "execution_count": 4,
      "metadata": {
        "id": "6RVUyVKhcCbI",
        "colab": {
          "base_uri": "https://localhost:8080/"
        },
        "outputId": "f4035978-6b5f-49f3-f494-726103d2fca5"
      },
      "outputs": [
        {
          "output_type": "stream",
          "name": "stdout",
          "text": [
            "Текущая дата и время: 2024-12-24 10:46:25.605461\n",
            "Разница: 324\n",
            "Преобразованная дата: 2024-10-01 00:00:00\n"
          ]
        }
      ],
      "source": [
        "import datetime\n",
        "\n",
        "# Отображение текущей даты и времени\n",
        "current_date_and_time = datetime.datetime.now()\n",
        "print(\"Текущая дата и время:\", current_date_and_time)\n",
        "\n",
        "# Вычисление разницы между двумя датами\n",
        "date1 = datetime.date(2024, 1, 12)\n",
        "date2 = datetime.date(2024, 12, 1)\n",
        "diff = date2 - date1\n",
        "days_diff = diff.days\n",
        "print(\"Разница:\", days_diff)\n",
        "\n",
        "# Преобразование строки в объект даты и времени\n",
        "date_string = \"2024-10-01\"\n",
        "format_string = \"%Y-%m-%d\"\n",
        "parsed_date = datetime.datetime.strptime(date_string, format_string)\n",
        "print(\"Преобразованная дата:\", parsed_date)"
      ]
    },
    {
      "cell_type": "code",
      "source": [],
      "metadata": {
        "id": "2ID54qGiQhpb"
      },
      "execution_count": null,
      "outputs": []
    },
    {
      "cell_type": "code",
      "source": [],
      "metadata": {
        "id": "e0Viem8KQiz4"
      },
      "execution_count": null,
      "outputs": []
    }
  ]
}